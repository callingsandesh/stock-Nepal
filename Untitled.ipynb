{
 "cells": [
  {
   "cell_type": "code",
   "execution_count": 11,
   "id": "4b026763",
   "metadata": {},
   "outputs": [
    {
     "name": "stdout",
     "output_type": "stream",
     "text": [
      "3 6\n",
      "3 7\n",
      "3 8\n",
      "5 6\n",
      "5 7\n",
      "5 8\n"
     ]
    }
   ],
   "source": [
    "\n",
    "for j in range(3,6):\n",
    "    for k in range(6,9):\n",
    "        if j==4:\n",
    "                \n",
    "            break\n",
    "        print(j,k)  "
   ]
  }
 ],
 "metadata": {
  "kernelspec": {
   "display_name": "Python 3",
   "language": "python",
   "name": "python3"
  },
  "language_info": {
   "codemirror_mode": {
    "name": "ipython",
    "version": 3
   },
   "file_extension": ".py",
   "mimetype": "text/x-python",
   "name": "python",
   "nbconvert_exporter": "python",
   "pygments_lexer": "ipython3",
   "version": "3.8.5"
  }
 },
 "nbformat": 4,
 "nbformat_minor": 5
}
